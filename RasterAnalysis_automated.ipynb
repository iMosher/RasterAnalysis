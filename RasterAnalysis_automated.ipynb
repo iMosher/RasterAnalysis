{
  "nbformat": 4,
  "nbformat_minor": 0,
  "metadata": {
    "colab": {
      "provenance": []
    },
    "kernelspec": {
      "name": "python3",
      "display_name": "Python 3"
    },
    "language_info": {
      "name": "python"
    }
  },
  "cells": [
    {
      "cell_type": "markdown",
      "source": [
        "# Raster Averager (X-TREME EDITION 2.0)\n",
        "\n",
        "This program will take the average of any number of rasters in a directory and output a new raster with all layers averaged."
      ],
      "metadata": {
        "id": "9knGe3-PCkvK"
      }
    },
    {
      "cell_type": "code",
      "execution_count": null,
      "metadata": {
        "colab": {
          "base_uri": "https://localhost:8080/"
        },
        "collapsed": true,
        "id": "yZMO-O6Vo_GS",
        "outputId": "7fb8bc86-bd7d-4029-b915-457fb52c50f4"
      },
      "outputs": [
        {
          "output_type": "stream",
          "name": "stdout",
          "text": [
            "Requirement already satisfied: rasterio in /usr/local/lib/python3.10/dist-packages (1.3.10)\n",
            "Requirement already satisfied: affine in /usr/local/lib/python3.10/dist-packages (from rasterio) (2.4.0)\n",
            "Requirement already satisfied: attrs in /usr/local/lib/python3.10/dist-packages (from rasterio) (23.2.0)\n",
            "Requirement already satisfied: certifi in /usr/local/lib/python3.10/dist-packages (from rasterio) (2024.6.2)\n",
            "Requirement already satisfied: click>=4.0 in /usr/local/lib/python3.10/dist-packages (from rasterio) (8.1.7)\n",
            "Requirement already satisfied: cligj>=0.5 in /usr/local/lib/python3.10/dist-packages (from rasterio) (0.7.2)\n",
            "Requirement already satisfied: numpy in /usr/local/lib/python3.10/dist-packages (from rasterio) (1.25.2)\n",
            "Requirement already satisfied: snuggs>=1.4.1 in /usr/local/lib/python3.10/dist-packages (from rasterio) (1.4.7)\n",
            "Requirement already satisfied: click-plugins in /usr/local/lib/python3.10/dist-packages (from rasterio) (1.1.1)\n",
            "Requirement already satisfied: setuptools in /usr/local/lib/python3.10/dist-packages (from rasterio) (67.7.2)\n",
            "Requirement already satisfied: pyparsing>=2.1.6 in /usr/local/lib/python3.10/dist-packages (from snuggs>=1.4.1->rasterio) (3.1.2)\n",
            "Drive already mounted at /content/drive; to attempt to forcibly remount, call drive.mount(\"/content/drive\", force_remount=True).\n"
          ]
        }
      ],
      "source": [
        "#installs\n",
        "!pip install rasterio\n",
        "from matplotlib import pyplot\n",
        "import numpy as np\n",
        "import rasterio\n",
        "import PIL\n",
        "from PIL import Image\n",
        "from glob import glob\n",
        "import os\n",
        "\n",
        "#Allow access to TetonTopo shared drive. The program will not work if this cell is not run.\n",
        "from google.colab import drive\n",
        "drive.mount('/content/drive')"
      ]
    },
    {
      "cell_type": "markdown",
      "source": [
        "**PROVIDE THE DIRECTORY OF THE FILES TO BE AVERAGED IN THE NEXT CELL**\n",
        "\n",
        "IMPORTANT NOTE: Make sure the rasters end in a .tif file extension. You can simply add this extension to the raster files if they have none to begin with. This allows the program to differenciate between raster images and other files in the folder.\n",
        "\n"
      ],
      "metadata": {
        "id": "RonkbwArDVuB"
      }
    },
    {
      "cell_type": "code",
      "source": [
        "#Import all rasters in a directory\n",
        "data_dir = '/content/drive/Shareddrives/GIS/NAIC_RxBurn/project_data/Layers/TifToAverage' # This variable is necesscary for the program to find the rasters. it is the path to the directory (folder) holding the geotiffs\n",
        "\n",
        "#Creates a path list for all raster files to average\n",
        "#NOTE: Make sure the rasters end in a .tif file extension. You can simply add this extension to the raster files if they have none to begin with. This allows the program to differenciate between raster images and other files in the folder.\n",
        "file_list = glob(os.path.join(data_dir, '*.tif'))"
      ],
      "metadata": {
        "id": "qeTypuGUpUqr"
      },
      "execution_count": null,
      "outputs": []
    },
    {
      "cell_type": "code",
      "source": [
        "#Run this cell to check that the program has the file path for all rasters to be averaged.\n",
        "print(file_list)"
      ],
      "metadata": {
        "id": "Alq9oWWkQ4_b",
        "outputId": "cc463064-4c64-4a2b-a35b-832f30e1260a",
        "colab": {
          "base_uri": "https://localhost:8080/"
        }
      },
      "execution_count": null,
      "outputs": [
        {
          "output_type": "stream",
          "name": "stdout",
          "text": [
            "['/content/drive/Shareddrives/GIS/NAIC_RxBurn/project_data/Layers/TifToAverage/Copy of 20240605_1142_HG_NAIC_RxBurnAOI_Overview_LBP_97thP.tif', '/content/drive/Shareddrives/GIS/NAIC_RxBurn/project_data/Layers/TifToAverage/Copy of 20240605_300_HG_NAIC_RxBurnAOI_Overview_LBP_Wind25.tif', '/content/drive/Shareddrives/GIS/NAIC_RxBurn/project_data/Layers/TifToAverage/Copy of 20240605_300_HG_NAIC_RxBurnAOI_Overview_LBP_Wind20.tif', '/content/drive/Shareddrives/GIS/NAIC_RxBurn/project_data/Layers/TifToAverage/Copy of 20240605_300_HG_NAIC_RxBurnAOI_Overview_LBP_Wind15.tif', '/content/drive/Shareddrives/GIS/NAIC_RxBurn/project_data/Layers/TifToAverage/Copy of 20240605_300_HG_NAIC_RxBurnAOI_Overview_LBP_Wind10.tif']\n"
          ]
        }
      ]
    },
    {
      "cell_type": "code",
      "source": [
        "#Testing to see how many bands the input files contain\n",
        "for file in file_list:\n",
        "  with rasterio.open(file) as src:\n",
        "    print(src.count)"
      ],
      "metadata": {
        "colab": {
          "base_uri": "https://localhost:8080/"
        },
        "id": "-rvTfnZxLNKc",
        "outputId": "4f1bfbe2-a6a3-4583-b9b8-492baab0ce64"
      },
      "execution_count": null,
      "outputs": [
        {
          "output_type": "stream",
          "name": "stderr",
          "text": [
            "WARNING:rasterio._env:CPLE_AppDefined in /content/drive/Shareddrives/GIS/NAIC_RxBurn/project_data/Layers/TifToAverage/Copy of 20240605_1142_HG_NAIC_RxBurnAOI_Overview_LBP_97thP.tif: TIFFReadDirectory:Sum of Photometric type-related color channels and ExtraSamples doesn't match SamplesPerPixel. Defining non-color channels as ExtraSamples.\n"
          ]
        },
        {
          "output_type": "stream",
          "name": "stdout",
          "text": [
            "15\n"
          ]
        },
        {
          "output_type": "stream",
          "name": "stderr",
          "text": [
            "WARNING:rasterio._env:CPLE_AppDefined in /content/drive/Shareddrives/GIS/NAIC_RxBurn/project_data/Layers/TifToAverage/Copy of 20240605_300_HG_NAIC_RxBurnAOI_Overview_LBP_Wind25.tif: TIFFReadDirectory:Sum of Photometric type-related color channels and ExtraSamples doesn't match SamplesPerPixel. Defining non-color channels as ExtraSamples.\n"
          ]
        },
        {
          "output_type": "stream",
          "name": "stdout",
          "text": [
            "15\n"
          ]
        },
        {
          "output_type": "stream",
          "name": "stderr",
          "text": [
            "WARNING:rasterio._env:CPLE_AppDefined in /content/drive/Shareddrives/GIS/NAIC_RxBurn/project_data/Layers/TifToAverage/Copy of 20240605_300_HG_NAIC_RxBurnAOI_Overview_LBP_Wind20.tif: TIFFReadDirectory:Sum of Photometric type-related color channels and ExtraSamples doesn't match SamplesPerPixel. Defining non-color channels as ExtraSamples.\n"
          ]
        },
        {
          "output_type": "stream",
          "name": "stdout",
          "text": [
            "15\n"
          ]
        },
        {
          "output_type": "stream",
          "name": "stderr",
          "text": [
            "WARNING:rasterio._env:CPLE_AppDefined in /content/drive/Shareddrives/GIS/NAIC_RxBurn/project_data/Layers/TifToAverage/Copy of 20240605_300_HG_NAIC_RxBurnAOI_Overview_LBP_Wind15.tif: TIFFReadDirectory:Sum of Photometric type-related color channels and ExtraSamples doesn't match SamplesPerPixel. Defining non-color channels as ExtraSamples.\n"
          ]
        },
        {
          "output_type": "stream",
          "name": "stdout",
          "text": [
            "15\n"
          ]
        },
        {
          "output_type": "stream",
          "name": "stderr",
          "text": [
            "WARNING:rasterio._env:CPLE_AppDefined in /content/drive/Shareddrives/GIS/NAIC_RxBurn/project_data/Layers/TifToAverage/Copy of 20240605_300_HG_NAIC_RxBurnAOI_Overview_LBP_Wind10.tif: TIFFReadDirectory:Sum of Photometric type-related color channels and ExtraSamples doesn't match SamplesPerPixel. Defining non-color channels as ExtraSamples.\n"
          ]
        },
        {
          "output_type": "stream",
          "name": "stdout",
          "text": [
            "15\n"
          ]
        }
      ]
    },
    {
      "cell_type": "markdown",
      "source": [
        "**The following function takes the file list from above, as well as a file path for the output file (including the name and file extension) as parameters. It then reads in every raster and averages every band of all rasters. The program maintains the meta data by taking the data from the first file in the list and assigning it to the output file. Once this function is called and run the file will be saved to the specified directory.**"
      ],
      "metadata": {
        "id": "PeqgGAOH6t9f"
      }
    },
    {
      "cell_type": "code",
      "source": [
        "def average_raster_bands(files, output_file):\n",
        "    try:\n",
        "        # Open all input raster files\n",
        "        src_files_to_mosaic = [rasterio.open(file) for file in files]\n",
        "\n",
        "        # Read metadata of one raster file (assuming all have the same metadata)\n",
        "        meta = src_files_to_mosaic[0].meta\n",
        "\n",
        "        # Get number of bands\n",
        "        num_bands = src_files_to_mosaic[0].count\n",
        "\n",
        "        # Initialize array to store band data\n",
        "        band_data = []\n",
        "\n",
        "        # Read and accumulate band data for each raster file\n",
        "        for band_index in range(1, num_bands + 1):\n",
        "            band_data_accumulated = None\n",
        "            for src in src_files_to_mosaic:\n",
        "                data = src.read(band_index)\n",
        "                if band_data_accumulated is None:\n",
        "                    band_data_accumulated = data.astype(np.float64)\n",
        "                else:\n",
        "                    band_data_accumulated += data.astype(np.float64)\n",
        "\n",
        "            # Calculate average for the current band\n",
        "            band_data_average = band_data_accumulated / len(src_files_to_mosaic)\n",
        "\n",
        "            # Append averaged band data to list\n",
        "            band_data.append(band_data_average.astype(meta['dtype']))\n",
        "\n",
        "        # Close all input raster files\n",
        "        for src in src_files_to_mosaic:\n",
        "            src.close()\n",
        "\n",
        "        # Write the averaged bands to a new raster file\n",
        "        with rasterio.open(output_file, 'w', **meta) as dst:\n",
        "            for i, data in enumerate(band_data):\n",
        "                dst.write(data, i + 1)\n",
        "\n",
        "        print(f\"Averaged raster file saved as {output_file}\")\n",
        "\n",
        "    except Exception as e:\n",
        "        print(f\"Error processing files: {e}\")"
      ],
      "metadata": {
        "id": "r1TOdxf2vshR"
      },
      "execution_count": null,
      "outputs": []
    },
    {
      "cell_type": "markdown",
      "source": [
        "**The Following cell assigns the two needed parameters for the function and calls the function. Once you run this cell, the files will be averaged and the new file will be created and stored at the location specified in the `output_file` variable below."
      ],
      "metadata": {
        "id": "QqqjW1Cy8adT"
      }
    },
    {
      "cell_type": "code",
      "source": [
        "#File list as created in the above cell.\n",
        "input_files = file_list\n",
        "\n",
        "# Output file path and name for the averaged raster (Example: /content/drive/output_folder/filename.tif)\n",
        "output_file = '/content/drive/Shareddrives/GIS/NAIC_RxBurn/project_data/Layers/AveragedRaster/NAIC_RxBurn_MeanRaster'\n",
        "\n",
        "average_raster_bands(input_files, output_file)"
      ],
      "metadata": {
        "colab": {
          "base_uri": "https://localhost:8080/"
        },
        "id": "IPR0TpUxvwq-",
        "outputId": "9fdc2450-0faf-42f8-d08d-a34c62d29aee"
      },
      "execution_count": null,
      "outputs": [
        {
          "output_type": "stream",
          "name": "stderr",
          "text": [
            "WARNING:rasterio._env:CPLE_AppDefined in /content/drive/Shareddrives/GIS/NAIC_RxBurn/project_data/Layers/TifToAverage/Copy of 20240605_1142_HG_NAIC_RxBurnAOI_Overview_LBP_97thP.tif: TIFFReadDirectory:Sum of Photometric type-related color channels and ExtraSamples doesn't match SamplesPerPixel. Defining non-color channels as ExtraSamples.\n",
            "WARNING:rasterio._env:CPLE_AppDefined in /content/drive/Shareddrives/GIS/NAIC_RxBurn/project_data/Layers/TifToAverage/Copy of 20240605_300_HG_NAIC_RxBurnAOI_Overview_LBP_Wind25.tif: TIFFReadDirectory:Sum of Photometric type-related color channels and ExtraSamples doesn't match SamplesPerPixel. Defining non-color channels as ExtraSamples.\n",
            "WARNING:rasterio._env:CPLE_AppDefined in /content/drive/Shareddrives/GIS/NAIC_RxBurn/project_data/Layers/TifToAverage/Copy of 20240605_300_HG_NAIC_RxBurnAOI_Overview_LBP_Wind20.tif: TIFFReadDirectory:Sum of Photometric type-related color channels and ExtraSamples doesn't match SamplesPerPixel. Defining non-color channels as ExtraSamples.\n",
            "WARNING:rasterio._env:CPLE_AppDefined in /content/drive/Shareddrives/GIS/NAIC_RxBurn/project_data/Layers/TifToAverage/Copy of 20240605_300_HG_NAIC_RxBurnAOI_Overview_LBP_Wind15.tif: TIFFReadDirectory:Sum of Photometric type-related color channels and ExtraSamples doesn't match SamplesPerPixel. Defining non-color channels as ExtraSamples.\n",
            "WARNING:rasterio._env:CPLE_AppDefined in /content/drive/Shareddrives/GIS/NAIC_RxBurn/project_data/Layers/TifToAverage/Copy of 20240605_300_HG_NAIC_RxBurnAOI_Overview_LBP_Wind10.tif: TIFFReadDirectory:Sum of Photometric type-related color channels and ExtraSamples doesn't match SamplesPerPixel. Defining non-color channels as ExtraSamples.\n"
          ]
        },
        {
          "output_type": "stream",
          "name": "stdout",
          "text": [
            "Averaged raster file saved as /content/drive/Shareddrives/GIS/NAIC_RxBurn/project_data/Layers/AveragedRaster/NAIC_RxBurn_MeanRaster\n"
          ]
        }
      ]
    }
  ]
}